{
  "nbformat": 4,
  "nbformat_minor": 0,
  "metadata": {
    "colab": {
      "name": "HAR ",
      "provenance": []
    },
    "kernelspec": {
      "name": "python3",
      "display_name": "Python 3"
    },
    "language_info": {
      "name": "python"
    }
  },
  "cells": [
    {
      "cell_type": "markdown",
      "metadata": {
        "id": "tsbpPQI7gf-8"
      },
      "source": [
        "Firstly , we will download the dataset.\n"
      ]
    },
    {
      "cell_type": "code",
      "metadata": {
        "colab": {
          "base_uri": "https://localhost:8080/"
        },
        "id": "IelKjQ3qepG_",
        "outputId": "def047b0-0159-4b08-aa6a-2f4b096c6324"
      },
      "source": [
        "! wget https://archive.ics.uci.edu/ml/machine-learning-databases/00240/UCI%20HAR%20Dataset.zip"
      ],
      "execution_count": null,
      "outputs": [
        {
          "output_type": "stream",
          "text": [
            "--2021-04-08 10:25:23--  https://archive.ics.uci.edu/ml/machine-learning-databases/00240/UCI%20HAR%20Dataset.zip\n",
            "Resolving archive.ics.uci.edu (archive.ics.uci.edu)... 128.195.10.252\n",
            "Connecting to archive.ics.uci.edu (archive.ics.uci.edu)|128.195.10.252|:443... connected.\n",
            "HTTP request sent, awaiting response... 200 OK\n",
            "Length: 60999314 (58M) [application/x-httpd-php]\n",
            "Saving to: ‘UCI HAR Dataset.zip’\n",
            "\n",
            "UCI HAR Dataset.zip 100%[===================>]  58.17M  32.1MB/s    in 1.8s    \n",
            "\n",
            "2021-04-08 10:25:26 (32.1 MB/s) - ‘UCI HAR Dataset.zip’ saved [60999314/60999314]\n",
            "\n"
          ],
          "name": "stdout"
        }
      ]
    },
    {
      "cell_type": "code",
      "metadata": {
        "colab": {
          "base_uri": "https://localhost:8080/"
        },
        "id": "H-7prelugefp",
        "outputId": "9c0959ba-b5e6-4c20-e2f9-34b6bf35dd35"
      },
      "source": [
        "#unzip it\n",
        "!unzip \"UCI HAR Dataset.zip\""
      ],
      "execution_count": null,
      "outputs": [
        {
          "output_type": "stream",
          "text": [
            "Archive:  UCI HAR Dataset.zip\n",
            "   creating: UCI HAR Dataset/\n",
            "  inflating: UCI HAR Dataset/.DS_Store  \n",
            "   creating: __MACOSX/\n",
            "   creating: __MACOSX/UCI HAR Dataset/\n",
            "  inflating: __MACOSX/UCI HAR Dataset/._.DS_Store  \n",
            "  inflating: UCI HAR Dataset/activity_labels.txt  \n",
            "  inflating: __MACOSX/UCI HAR Dataset/._activity_labels.txt  \n",
            "  inflating: UCI HAR Dataset/features.txt  \n",
            "  inflating: __MACOSX/UCI HAR Dataset/._features.txt  \n",
            "  inflating: UCI HAR Dataset/features_info.txt  \n",
            "  inflating: __MACOSX/UCI HAR Dataset/._features_info.txt  \n",
            "  inflating: UCI HAR Dataset/README.txt  \n",
            "  inflating: __MACOSX/UCI HAR Dataset/._README.txt  \n",
            "   creating: UCI HAR Dataset/test/\n",
            "   creating: UCI HAR Dataset/test/Inertial Signals/\n",
            "  inflating: UCI HAR Dataset/test/Inertial Signals/body_acc_x_test.txt  \n",
            "   creating: __MACOSX/UCI HAR Dataset/test/\n",
            "   creating: __MACOSX/UCI HAR Dataset/test/Inertial Signals/\n",
            "  inflating: __MACOSX/UCI HAR Dataset/test/Inertial Signals/._body_acc_x_test.txt  \n",
            "  inflating: UCI HAR Dataset/test/Inertial Signals/body_acc_y_test.txt  \n",
            "  inflating: __MACOSX/UCI HAR Dataset/test/Inertial Signals/._body_acc_y_test.txt  \n",
            "  inflating: UCI HAR Dataset/test/Inertial Signals/body_acc_z_test.txt  \n",
            "  inflating: __MACOSX/UCI HAR Dataset/test/Inertial Signals/._body_acc_z_test.txt  \n",
            "  inflating: UCI HAR Dataset/test/Inertial Signals/body_gyro_x_test.txt  \n",
            "  inflating: __MACOSX/UCI HAR Dataset/test/Inertial Signals/._body_gyro_x_test.txt  \n",
            "  inflating: UCI HAR Dataset/test/Inertial Signals/body_gyro_y_test.txt  \n",
            "  inflating: __MACOSX/UCI HAR Dataset/test/Inertial Signals/._body_gyro_y_test.txt  \n",
            "  inflating: UCI HAR Dataset/test/Inertial Signals/body_gyro_z_test.txt  \n",
            "  inflating: __MACOSX/UCI HAR Dataset/test/Inertial Signals/._body_gyro_z_test.txt  \n",
            "  inflating: UCI HAR Dataset/test/Inertial Signals/total_acc_x_test.txt  \n",
            "  inflating: __MACOSX/UCI HAR Dataset/test/Inertial Signals/._total_acc_x_test.txt  \n",
            "  inflating: UCI HAR Dataset/test/Inertial Signals/total_acc_y_test.txt  \n",
            "  inflating: __MACOSX/UCI HAR Dataset/test/Inertial Signals/._total_acc_y_test.txt  \n",
            "  inflating: UCI HAR Dataset/test/Inertial Signals/total_acc_z_test.txt  \n",
            "  inflating: __MACOSX/UCI HAR Dataset/test/Inertial Signals/._total_acc_z_test.txt  \n",
            "  inflating: __MACOSX/UCI HAR Dataset/test/._Inertial Signals  \n",
            "  inflating: UCI HAR Dataset/test/subject_test.txt  \n",
            "  inflating: __MACOSX/UCI HAR Dataset/test/._subject_test.txt  \n",
            "  inflating: UCI HAR Dataset/test/X_test.txt  \n",
            "  inflating: __MACOSX/UCI HAR Dataset/test/._X_test.txt  \n",
            "  inflating: UCI HAR Dataset/test/y_test.txt  \n",
            "  inflating: __MACOSX/UCI HAR Dataset/test/._y_test.txt  \n",
            "  inflating: __MACOSX/UCI HAR Dataset/._test  \n",
            "   creating: UCI HAR Dataset/train/\n",
            "   creating: UCI HAR Dataset/train/Inertial Signals/\n",
            "  inflating: UCI HAR Dataset/train/Inertial Signals/body_acc_x_train.txt  \n",
            "   creating: __MACOSX/UCI HAR Dataset/train/\n",
            "   creating: __MACOSX/UCI HAR Dataset/train/Inertial Signals/\n",
            "  inflating: __MACOSX/UCI HAR Dataset/train/Inertial Signals/._body_acc_x_train.txt  \n",
            "  inflating: UCI HAR Dataset/train/Inertial Signals/body_acc_y_train.txt  \n",
            "  inflating: __MACOSX/UCI HAR Dataset/train/Inertial Signals/._body_acc_y_train.txt  \n",
            "  inflating: UCI HAR Dataset/train/Inertial Signals/body_acc_z_train.txt  \n",
            "  inflating: __MACOSX/UCI HAR Dataset/train/Inertial Signals/._body_acc_z_train.txt  \n",
            "  inflating: UCI HAR Dataset/train/Inertial Signals/body_gyro_x_train.txt  \n",
            "  inflating: __MACOSX/UCI HAR Dataset/train/Inertial Signals/._body_gyro_x_train.txt  \n",
            "  inflating: UCI HAR Dataset/train/Inertial Signals/body_gyro_y_train.txt  \n",
            "  inflating: __MACOSX/UCI HAR Dataset/train/Inertial Signals/._body_gyro_y_train.txt  \n",
            "  inflating: UCI HAR Dataset/train/Inertial Signals/body_gyro_z_train.txt  \n",
            "  inflating: __MACOSX/UCI HAR Dataset/train/Inertial Signals/._body_gyro_z_train.txt  \n",
            "  inflating: UCI HAR Dataset/train/Inertial Signals/total_acc_x_train.txt  \n",
            "  inflating: __MACOSX/UCI HAR Dataset/train/Inertial Signals/._total_acc_x_train.txt  \n",
            "  inflating: UCI HAR Dataset/train/Inertial Signals/total_acc_y_train.txt  \n",
            "  inflating: __MACOSX/UCI HAR Dataset/train/Inertial Signals/._total_acc_y_train.txt  \n",
            "  inflating: UCI HAR Dataset/train/Inertial Signals/total_acc_z_train.txt  \n",
            "  inflating: __MACOSX/UCI HAR Dataset/train/Inertial Signals/._total_acc_z_train.txt  \n",
            "  inflating: __MACOSX/UCI HAR Dataset/train/._Inertial Signals  \n",
            "  inflating: UCI HAR Dataset/train/subject_train.txt  \n",
            "  inflating: __MACOSX/UCI HAR Dataset/train/._subject_train.txt  \n",
            "  inflating: UCI HAR Dataset/train/X_train.txt  \n",
            "  inflating: __MACOSX/UCI HAR Dataset/train/._X_train.txt  \n",
            "  inflating: UCI HAR Dataset/train/y_train.txt  \n",
            "  inflating: __MACOSX/UCI HAR Dataset/train/._y_train.txt  \n",
            "  inflating: __MACOSX/UCI HAR Dataset/._train  \n",
            "  inflating: __MACOSX/._UCI HAR Dataset  \n"
          ],
          "name": "stdout"
        }
      ]
    },
    {
      "cell_type": "code",
      "metadata": {
        "id": "wGJrK8-OgqHo"
      },
      "source": [
        "#moving it into our current working directory\n",
        "!mv \"UCI HAR Dataset\" HARDataset/"
      ],
      "execution_count": null,
      "outputs": []
    },
    {
      "cell_type": "code",
      "metadata": {
        "id": "xkFaURSDg8Uo"
      },
      "source": [
        "from numpy import std\n",
        "from numpy import dstack\n",
        "from pandas import read_csv"
      ],
      "execution_count": null,
      "outputs": []
    },
    {
      "cell_type": "markdown",
      "metadata": {
        "id": "K2uGRroZiuwL"
      },
      "source": [
        "Here we will try to load a group of files, such as all of the body acceleration data files as a single group.\n"
      ]
    },
    {
      "cell_type": "code",
      "metadata": {
        "colab": {
          "base_uri": "https://localhost:8080/"
        },
        "id": "32LHK7qHhiOo",
        "outputId": "869dd3eb-5fd3-4123-a886-e24b59edd487"
      },
      "source": [
        "# load a single file as a numpy array\n",
        "def load_file(filepath):\n",
        "\tdataframe = read_csv(filepath, header=None, delim_whitespace=True)\n",
        "\treturn dataframe.values\n",
        " \n",
        "# load a list of files, such as x, y, z data for a given variable\n",
        "def load_group(filenames, prefix=''):\n",
        "\tloaded = list()\n",
        "\tfor name in filenames:\n",
        "\t\tdata = load_file(prefix + name)\n",
        "\t\tloaded.append(data)\n",
        "\t# stack group so that features are the 3rd dimension\n",
        "\tloaded = dstack(loaded)\n",
        "\treturn loaded\n",
        " \n",
        "# load the total acc data\n",
        "filenames = ['total_acc_x_train.txt', 'total_acc_y_train.txt', 'total_acc_z_train.txt']\n",
        "total_acc = load_group(filenames, prefix='HARDataset/train/Inertial Signals/')\n",
        "print(total_acc.shape)"
      ],
      "execution_count": null,
      "outputs": [
        {
          "output_type": "stream",
          "text": [
            "(7352, 128, 3)\n"
          ],
          "name": "stdout"
        }
      ]
    },
    {
      "cell_type": "code",
      "metadata": {
        "colab": {
          "base_uri": "https://localhost:8080/"
        },
        "id": "gMrkyS3QmMVI",
        "outputId": "18fbda84-4aea-4edf-eeee-117bfb89af35"
      },
      "source": [
        "# load a single file as a numpy array\n",
        "def load_file(filepath):\n",
        "\tdataframe = read_csv(filepath, header=None, delim_whitespace=True)\n",
        "\treturn dataframe.values\n",
        " \n",
        "# load a list of files, such as x, y, z data for a given variable\n",
        "def load_group(filenames, prefix=''):\n",
        "\tloaded = list()\n",
        "\tfor name in filenames:\n",
        "\t\tdata = load_file(prefix + name)\n",
        "\t\tloaded.append(data)\n",
        "\t# stack group so that features are the 3rd dimension\n",
        "\tloaded = dstack(loaded)\n",
        "\treturn loaded\n",
        " \n",
        "# load a dataset group, such as train or test\n",
        "def load_dataset(group, prefix=''):\n",
        "\tfilepath = prefix + group + '/Inertial Signals/'\n",
        "\t# load all 9 files as a single array\n",
        "\tfilenames = list()\n",
        "\t# total acceleration\n",
        "\tfilenames += ['total_acc_x_'+group+'.txt', 'total_acc_y_'+group+'.txt', 'total_acc_z_'+group+'.txt']\n",
        "\t# body acceleration\n",
        "\tfilenames += ['body_acc_x_'+group+'.txt', 'body_acc_y_'+group+'.txt', 'body_acc_z_'+group+'.txt']\n",
        "\t# body gyroscope\n",
        "\tfilenames += ['body_gyro_x_'+group+'.txt', 'body_gyro_y_'+group+'.txt', 'body_gyro_z_'+group+'.txt']\n",
        "\t# load input data\n",
        "\tX = load_group(filenames, filepath)\n",
        "\t# load class output\n",
        "\ty = load_file(prefix + group + '/y_'+group+'.txt')\n",
        "\treturn X, y\n",
        "\n",
        "# load all train\n",
        "trainX, trainy = load_dataset('train', 'HARDataset/')\n",
        "print(trainX.shape, trainy.shape)\n",
        "# load all test\n",
        "testX, testy = load_dataset('test', 'HARDataset/')\n",
        "print(testX.shape, testy.shape)"
      ],
      "execution_count": null,
      "outputs": [
        {
          "output_type": "stream",
          "text": [
            "(7352, 128, 9) (7352, 1)\n",
            "(2947, 128, 9) (2947, 1)\n"
          ],
          "name": "stdout"
        }
      ]
    },
    {
      "cell_type": "code",
      "metadata": {
        "id": "OnN__Gha1iRy"
      },
      "source": [
        "testr = testy\n",
        "trainr = trainy"
      ],
      "execution_count": null,
      "outputs": []
    },
    {
      "cell_type": "code",
      "metadata": {
        "id": "MY_NERSU_3cL"
      },
      "source": [
        "testr = testr-1"
      ],
      "execution_count": null,
      "outputs": []
    },
    {
      "cell_type": "code",
      "metadata": {
        "id": "2ecinqAatDYG"
      },
      "source": [
        "from keras.utils import np_utils"
      ],
      "execution_count": null,
      "outputs": []
    },
    {
      "cell_type": "code",
      "metadata": {
        "id": "nqosLA4cuOa2"
      },
      "source": [
        "# zero-offset class values\n",
        "testy = testy - 1\n",
        "trainy = trainy - 1"
      ],
      "execution_count": null,
      "outputs": []
    },
    {
      "cell_type": "code",
      "metadata": {
        "colab": {
          "base_uri": "https://localhost:8080/"
        },
        "id": "sBa9nGK8tdFA",
        "outputId": "41b4e283-572a-491d-c1dd-43b1e5ac86ee"
      },
      "source": [
        "#one hot encoding\n",
        "testy = np_utils.to_categorical(testy)\n",
        "testy.shape"
      ],
      "execution_count": null,
      "outputs": [
        {
          "output_type": "execute_result",
          "data": {
            "text/plain": [
              "(2947, 6)"
            ]
          },
          "metadata": {
            "tags": []
          },
          "execution_count": 12
        }
      ]
    },
    {
      "cell_type": "code",
      "metadata": {
        "colab": {
          "base_uri": "https://localhost:8080/"
        },
        "id": "K5kaMQJX1bGl",
        "outputId": "cd130128-1d74-4d79-8de0-2a9801bbbd9e"
      },
      "source": [
        "#one hot encoding\n",
        "trainy = np_utils.to_categorical(trainy)\n",
        "trainy.shape"
      ],
      "execution_count": null,
      "outputs": [
        {
          "output_type": "execute_result",
          "data": {
            "text/plain": [
              "(7352, 6)"
            ]
          },
          "metadata": {
            "tags": []
          },
          "execution_count": 13
        }
      ]
    },
    {
      "cell_type": "code",
      "metadata": {
        "id": "Me5fDOrWh9DV"
      },
      "source": [
        "from keras.models import Sequential\n",
        "from keras.layers import Dense,Flatten"
      ],
      "execution_count": null,
      "outputs": []
    },
    {
      "cell_type": "code",
      "metadata": {
        "id": "MH0GULoro6Lj"
      },
      "source": [
        "import matplotlib.pyplot as plt\n",
        "from mlxtend.plotting import plot_confusion_matrix\n",
        "from sklearn.metrics import confusion_matrix"
      ],
      "execution_count": null,
      "outputs": []
    },
    {
      "cell_type": "code",
      "metadata": {
        "id": "eF3UNWuar5Rk"
      },
      "source": [
        "import numpy as np\n"
      ],
      "execution_count": null,
      "outputs": []
    },
    {
      "cell_type": "markdown",
      "metadata": {
        "id": "KP_uPO1x3SGI"
      },
      "source": [
        "# **RNN model**\n"
      ]
    },
    {
      "cell_type": "code",
      "metadata": {
        "id": "0Y_Fo-zJ3Qqn"
      },
      "source": [
        "from keras.layers import SimpleRNN"
      ],
      "execution_count": null,
      "outputs": []
    },
    {
      "cell_type": "code",
      "metadata": {
        "id": "UMw1DIZk4hyf"
      },
      "source": [
        "#building a RNN \n",
        "#model creation\n",
        "modelrnn = Sequential()\n",
        "modelrnn.add(SimpleRNN(units = 128,input_shape=(128,9)))\n",
        "modelrnn.add(Dense(units = 64, activation='relu'))\n",
        "modelrnn.add(Dense(units = 6 , activation='sigmoid'))"
      ],
      "execution_count": null,
      "outputs": []
    },
    {
      "cell_type": "code",
      "metadata": {
        "colab": {
          "base_uri": "https://localhost:8080/"
        },
        "id": "qNi9dTQP5U1y",
        "outputId": "f16889fb-4819-4009-95db-816142fedeaa"
      },
      "source": [
        "modelrnn.summary()"
      ],
      "execution_count": null,
      "outputs": [
        {
          "output_type": "stream",
          "text": [
            "Model: \"sequential_23\"\n",
            "_________________________________________________________________\n",
            "Layer (type)                 Output Shape              Param #   \n",
            "=================================================================\n",
            "simple_rnn_5 (SimpleRNN)     (None, 128)               17664     \n",
            "_________________________________________________________________\n",
            "dense_55 (Dense)             (None, 64)                8256      \n",
            "_________________________________________________________________\n",
            "dense_56 (Dense)             (None, 6)                 390       \n",
            "=================================================================\n",
            "Total params: 26,310\n",
            "Trainable params: 26,310\n",
            "Non-trainable params: 0\n",
            "_________________________________________________________________\n"
          ],
          "name": "stdout"
        }
      ]
    },
    {
      "cell_type": "code",
      "metadata": {
        "id": "qx4eBsCC5gn4"
      },
      "source": [
        "#compile model\n",
        "modelrnn.compile(optimizer='adam',loss='categorical_crossentropy', metrics=['accuracy'])"
      ],
      "execution_count": null,
      "outputs": []
    },
    {
      "cell_type": "code",
      "metadata": {
        "colab": {
          "base_uri": "https://localhost:8080/"
        },
        "id": "iKLOEYp66I9h",
        "outputId": "8fd79c0b-3094-4d36-885e-52d2de4c58b2"
      },
      "source": [
        "#fitting model\n",
        "history=modelrnn.fit(trainX,trainy,epochs=20,validation_data=(testX,testy))"
      ],
      "execution_count": null,
      "outputs": [
        {
          "output_type": "stream",
          "text": [
            "Epoch 1/20\n",
            "230/230 [==============================] - 11s 42ms/step - loss: 1.3438 - accuracy: 0.4393 - val_loss: 1.3483 - val_accuracy: 0.4421\n",
            "Epoch 2/20\n",
            "230/230 [==============================] - 9s 41ms/step - loss: 1.1579 - accuracy: 0.4996 - val_loss: 1.1793 - val_accuracy: 0.4941\n",
            "Epoch 3/20\n",
            "230/230 [==============================] - 9s 41ms/step - loss: 1.1538 - accuracy: 0.4915 - val_loss: 1.1811 - val_accuracy: 0.5168\n",
            "Epoch 4/20\n",
            "230/230 [==============================] - 9s 41ms/step - loss: 0.9926 - accuracy: 0.5788 - val_loss: 1.0772 - val_accuracy: 0.5867\n",
            "Epoch 5/20\n",
            "230/230 [==============================] - 9s 41ms/step - loss: 0.8453 - accuracy: 0.6476 - val_loss: 0.7435 - val_accuracy: 0.7248\n",
            "Epoch 6/20\n",
            "230/230 [==============================] - 10s 43ms/step - loss: 0.7289 - accuracy: 0.6920 - val_loss: 0.6721 - val_accuracy: 0.7299\n",
            "Epoch 7/20\n",
            "230/230 [==============================] - 9s 41ms/step - loss: 0.5524 - accuracy: 0.7743 - val_loss: 0.6441 - val_accuracy: 0.7302\n",
            "Epoch 8/20\n",
            "230/230 [==============================] - 9s 41ms/step - loss: 0.4995 - accuracy: 0.8048 - val_loss: 0.6643 - val_accuracy: 0.7754\n",
            "Epoch 9/20\n",
            "230/230 [==============================] - 9s 41ms/step - loss: 0.4046 - accuracy: 0.8404 - val_loss: 0.7262 - val_accuracy: 0.7553\n",
            "Epoch 10/20\n",
            "230/230 [==============================] - 9s 40ms/step - loss: 0.4663 - accuracy: 0.8252 - val_loss: 1.4298 - val_accuracy: 0.5158\n",
            "Epoch 11/20\n",
            "230/230 [==============================] - 10s 42ms/step - loss: 0.6572 - accuracy: 0.7458 - val_loss: 1.5318 - val_accuracy: 0.6050\n",
            "Epoch 12/20\n",
            "230/230 [==============================] - 9s 41ms/step - loss: 0.9949 - accuracy: 0.6699 - val_loss: 0.6578 - val_accuracy: 0.7340\n",
            "Epoch 13/20\n",
            "230/230 [==============================] - 9s 40ms/step - loss: 0.4928 - accuracy: 0.8006 - val_loss: 0.7855 - val_accuracy: 0.6624\n",
            "Epoch 14/20\n",
            "230/230 [==============================] - 9s 40ms/step - loss: 0.6024 - accuracy: 0.7527 - val_loss: 0.8555 - val_accuracy: 0.6478\n",
            "Epoch 15/20\n",
            "230/230 [==============================] - 9s 40ms/step - loss: 0.5455 - accuracy: 0.7782 - val_loss: 0.7162 - val_accuracy: 0.7201\n",
            "Epoch 16/20\n",
            "230/230 [==============================] - 9s 40ms/step - loss: 0.4238 - accuracy: 0.8324 - val_loss: 1.1406 - val_accuracy: 0.6451\n",
            "Epoch 17/20\n",
            "230/230 [==============================] - 9s 40ms/step - loss: 0.8592 - accuracy: 0.6627 - val_loss: 0.6408 - val_accuracy: 0.7526\n",
            "Epoch 18/20\n",
            "230/230 [==============================] - 9s 41ms/step - loss: 0.4344 - accuracy: 0.8288 - val_loss: 1.2149 - val_accuracy: 0.5409\n",
            "Epoch 19/20\n",
            "230/230 [==============================] - 9s 41ms/step - loss: 0.9462 - accuracy: 0.6320 - val_loss: 0.7802 - val_accuracy: 0.6912\n",
            "Epoch 20/20\n",
            "230/230 [==============================] - 9s 41ms/step - loss: 0.6692 - accuracy: 0.7358 - val_loss: 0.6740 - val_accuracy: 0.7095\n"
          ],
          "name": "stdout"
        }
      ]
    },
    {
      "cell_type": "code",
      "metadata": {
        "colab": {
          "base_uri": "https://localhost:8080/"
        },
        "id": "9YkjlFTI-FEq",
        "outputId": "3621cafc-592c-434a-b2af-00aa0110099e"
      },
      "source": [
        "modelrnn.evaluate(testX, testy)"
      ],
      "execution_count": null,
      "outputs": [
        {
          "output_type": "stream",
          "text": [
            "93/93 [==============================] - 1s 14ms/step - loss: 0.6740 - accuracy: 0.7095\n"
          ],
          "name": "stdout"
        },
        {
          "output_type": "execute_result",
          "data": {
            "text/plain": [
              "[0.6740157008171082, 0.7095351219177246]"
            ]
          },
          "metadata": {
            "tags": []
          },
          "execution_count": 241
        }
      ]
    },
    {
      "cell_type": "code",
      "metadata": {
        "colab": {
          "base_uri": "https://localhost:8080/"
        },
        "id": "KdykAlTG_ffL",
        "outputId": "98ad3865-a9c6-4557-9583-6684ecb71bdd"
      },
      "source": [
        "r_pred = modelrnn.predict_classes(testX)"
      ],
      "execution_count": null,
      "outputs": [
        {
          "output_type": "stream",
          "text": [
            "/usr/local/lib/python3.7/dist-packages/tensorflow/python/keras/engine/sequential.py:450: UserWarning: `model.predict_classes()` is deprecated and will be removed after 2021-01-01. Please use instead:* `np.argmax(model.predict(x), axis=-1)`,   if your model does multi-class classification   (e.g. if it uses a `softmax` last-layer activation).* `(model.predict(x) > 0.5).astype(\"int32\")`,   if your model does binary classification   (e.g. if it uses a `sigmoid` last-layer activation).\n",
            "  warnings.warn('`model.predict_classes()` is deprecated and '\n"
          ],
          "name": "stderr"
        }
      ]
    },
    {
      "cell_type": "markdown",
      "metadata": {
        "id": "ZUCKPjfHP_c3"
      },
      "source": [
        "# Confusion Matrix"
      ]
    },
    {
      "cell_type": "code",
      "metadata": {
        "colab": {
          "base_uri": "https://localhost:8080/",
          "height": 530
        },
        "id": "JjI0_eQK_oxm",
        "outputId": "1da82dae-a13c-4f31-806f-df79eb6623d0"
      },
      "source": [
        "mat = confusion_matrix(testr , r_pred)\n",
        "plot_confusion_matrix(conf_mat = mat, show_normed=False , figsize=(10,8))"
      ],
      "execution_count": null,
      "outputs": [
        {
          "output_type": "execute_result",
          "data": {
            "text/plain": [
              "(<Figure size 720x576 with 1 Axes>,\n",
              " <matplotlib.axes._subplots.AxesSubplot at 0x7f6526f85b50>)"
            ]
          },
          "metadata": {
            "tags": []
          },
          "execution_count": 243
        },
        {
          "output_type": "display_data",
          "data": {
            "image/png": "[encoded data removed]",
            "text/plain": [
              "<Figure size 720x576 with 1 Axes>"
            ]
          },
          "metadata": {
            "tags": [],
            "needs_background": "light"
          }
        }
      ]
    },
    {
      "cell_type": "markdown",
      "metadata": {
        "id": "ykBqb37NRSsU"
      },
      "source": [
        "# Plotting Curves for Accuracy and Loss"
      ]
    },
    {
      "cell_type": "code",
      "metadata": {
        "colab": {
          "base_uri": "https://localhost:8080/",
          "height": 295
        },
        "id": "8bCSnXkvNLW_",
        "outputId": "0e32ec9a-ffbc-4b68-83ff-26d44f7da1f4"
      },
      "source": [
        "plt.figure(figsize=(6, 4))\n",
        "plt.plot(history.history['accuracy'],'r', label='Accuracy of training data')\n",
        "plt.plot(history.history['val_accuracy'],'g', label='Accuracy of validation data')\n",
        "plt.title('Model Accuracy')\n",
        "plt.xlabel('Epochs')\n",
        "plt.ylabel('Accuracy')\n",
        "plt.legend(loc='lower right')\n",
        "plt.show()"
      ],
      "execution_count": null,
      "outputs": [
        {
          "output_type": "display_data",
          "data": {
            "image/png": "[encoded data removed]",
            "text/plain": [
              "<Figure size 432x288 with 1 Axes>"
            ]
          },
          "metadata": {
            "tags": [],
            "needs_background": "light"
          }
        }
      ]
    },
    {
      "cell_type": "code",
      "metadata": {
        "colab": {
          "base_uri": "https://localhost:8080/",
          "height": 295
        },
        "id": "6PavLpKuPNT9",
        "outputId": "0b6120a4-b1a2-4577-c8ff-b521197c7b13"
      },
      "source": [
        "plt.figure(figsize=(6, 4))\n",
        "plt.plot(history.history['loss'],'r', label='Loss of training data')\n",
        "plt.plot(history.history['val_loss'],'g', label='Loss of validation data')\n",
        "plt.title('Model Loss')\n",
        "plt.xlabel('Epochs')\n",
        "plt.ylabel('Loss')\n",
        "plt.legend(loc='upper right')\n",
        "plt.show()"
      ],
      "execution_count": null,
      "outputs": [
        {
          "output_type": "display_data",
          "data": {
            "image/png": "[encoded data removed]",
            "text/plain": [
              "<Figure size 432x288 with 1 Axes>"
            ]
          },
          "metadata": {
            "tags": [],
            "needs_background": "light"
          }
        }
      ]
    },
    {
      "cell_type": "markdown",
      "metadata": {
        "id": "P_hS7QYpRh0v"
      },
      "source": [
        "# Classification Report"
      ]
    },
    {
      "cell_type": "code",
      "metadata": {
        "colab": {
          "base_uri": "https://localhost:8080/"
        },
        "id": "UQsXbLdOBdp9",
        "outputId": "b92154b2-e197-49f9-b16b-ec88405109c6"
      },
      "source": [
        "from sklearn.metrics import classification_report\n",
        "y_pred = modelrnn.predict(testX)\n",
        "y_pred_classes = [np.argmax(element) for element in y_pred]\n",
        "print('\\nClassification Report\\n')\n",
        "print(classification_report(testr, y_pred_classes, target_names=[\"WALKING\", \"WALKING_UPSTAIRS\", \"WALKING_DOWNSTAIRS\", \"SITTING\", \"STANDING\", \"LAYING\"]))\n",
        "#here we needed testr not testy"
      ],
      "execution_count": null,
      "outputs": [
        {
          "output_type": "stream",
          "text": [
            "\n",
            "Classification Report\n",
            "\n",
            "                    precision    recall  f1-score   support\n",
            "\n",
            "           WALKING       0.53      0.44      0.48       496\n",
            "  WALKING_UPSTAIRS       0.54      0.54      0.54       471\n",
            "WALKING_DOWNSTAIRS       0.60      0.69      0.64       420\n",
            "           SITTING       0.73      0.86      0.79       491\n",
            "          STANDING       0.82      0.74      0.78       532\n",
            "            LAYING       0.99      0.95      0.97       537\n",
            "\n",
            "          accuracy                           0.71      2947\n",
            "         macro avg       0.70      0.70      0.70      2947\n",
            "      weighted avg       0.71      0.71      0.71      2947\n",
            "\n"
          ],
          "name": "stdout"
        }
      ]
    },
    {
      "cell_type": "markdown",
      "metadata": {
        "id": "nC2Ve-JWUqiQ"
      },
      "source": [
        "## We can see RNN model gives an accuracy of 71%"
      ]
    },
    {
      "cell_type": "markdown",
      "metadata": {
        "id": "ovz-NHtTVl0c"
      },
      "source": [
        "# **LSTM model**"
      ]
    },
    {
      "cell_type": "code",
      "metadata": {
        "id": "BiIHm7WzYMlt"
      },
      "source": [
        "from keras.layers import LSTM"
      ],
      "execution_count": null,
      "outputs": []
    },
    {
      "cell_type": "code",
      "metadata": {
        "id": "Q4rEdR0nVqa8"
      },
      "source": [
        "#building a LSTM\n",
        "#model creation\n",
        "modellstm = Sequential()\n",
        "modellstm.add(LSTM(units = 128,input_shape=(trainX.shape[1:]),return_sequences=True))\n",
        "modellstm.add(LSTM(units = 64))\n",
        "modellstm.add(Dense(units = 64, activation='relu'))\n",
        "modellstm.add(Dense(units = 6 , activation='sigmoid'))"
      ],
      "execution_count": null,
      "outputs": []
    },
    {
      "cell_type": "code",
      "metadata": {
        "id": "Zm-0Wx5QVit9"
      },
      "source": [
        "modellstm.compile(optimizer='adam',loss='categorical_crossentropy', metrics=['accuracy'])"
      ],
      "execution_count": null,
      "outputs": []
    },
    {
      "cell_type": "code",
      "metadata": {
        "colab": {
          "base_uri": "https://localhost:8080/"
        },
        "id": "AJNw8XFGY0VX",
        "outputId": "c2172399-e3d6-4803-d9b3-f2ac4ab211b1"
      },
      "source": [
        "modellstm.summary()"
      ],
      "execution_count": null,
      "outputs": [
        {
          "output_type": "stream",
          "text": [
            "Model: \"sequential_21\"\n",
            "_________________________________________________________________\n",
            "Layer (type)                 Output Shape              Param #   \n",
            "=================================================================\n",
            "lstm_10 (LSTM)               (None, 128, 128)          70656     \n",
            "_________________________________________________________________\n",
            "lstm_11 (LSTM)               (None, 64)                49408     \n",
            "_________________________________________________________________\n",
            "dense_51 (Dense)             (None, 64)                4160      \n",
            "_________________________________________________________________\n",
            "dense_52 (Dense)             (None, 6)                 390       \n",
            "=================================================================\n",
            "Total params: 124,614\n",
            "Trainable params: 124,614\n",
            "Non-trainable params: 0\n",
            "_________________________________________________________________\n"
          ],
          "name": "stdout"
        }
      ]
    },
    {
      "cell_type": "code",
      "metadata": {
        "colab": {
          "base_uri": "https://localhost:8080/"
        },
        "id": "U6wwPE_Geqo-",
        "outputId": "e7fc51ea-7cb1-4133-ba7c-ad2fac7e2a30"
      },
      "source": [
        "historyy=modellstm.fit(trainX,trainy,epochs=20,validation_data=(testX,testy))"
      ],
      "execution_count": null,
      "outputs": [
        {
          "output_type": "stream",
          "text": [
            "Epoch 1/20\n",
            "230/230 [==============================] - 56s 229ms/step - loss: 1.1134 - accuracy: 0.5284 - val_loss: 0.7851 - val_accuracy: 0.7204\n",
            "Epoch 2/20\n",
            "230/230 [==============================] - 52s 226ms/step - loss: 0.5951 - accuracy: 0.7572 - val_loss: 0.4933 - val_accuracy: 0.7917\n",
            "Epoch 3/20\n",
            "230/230 [==============================] - 52s 224ms/step - loss: 0.2953 - accuracy: 0.8872 - val_loss: 0.4293 - val_accuracy: 0.8510\n",
            "Epoch 4/20\n",
            "230/230 [==============================] - 52s 225ms/step - loss: 0.1844 - accuracy: 0.9336 - val_loss: 0.2836 - val_accuracy: 0.8924\n",
            "Epoch 5/20\n",
            "230/230 [==============================] - 53s 229ms/step - loss: 0.1468 - accuracy: 0.9439 - val_loss: 0.3135 - val_accuracy: 0.8965\n",
            "Epoch 6/20\n",
            "230/230 [==============================] - 52s 226ms/step - loss: 0.1481 - accuracy: 0.9431 - val_loss: 0.3150 - val_accuracy: 0.8999\n",
            "Epoch 7/20\n",
            "230/230 [==============================] - 51s 223ms/step - loss: 0.1139 - accuracy: 0.9555 - val_loss: 0.3881 - val_accuracy: 0.8975\n",
            "Epoch 8/20\n",
            "230/230 [==============================] - 51s 224ms/step - loss: 0.1226 - accuracy: 0.9515 - val_loss: 0.3109 - val_accuracy: 0.8941\n",
            "Epoch 9/20\n",
            "230/230 [==============================] - 51s 224ms/step - loss: 0.1301 - accuracy: 0.9495 - val_loss: 0.3096 - val_accuracy: 0.8958\n",
            "Epoch 10/20\n",
            "230/230 [==============================] - 51s 224ms/step - loss: 0.1211 - accuracy: 0.9485 - val_loss: 0.3084 - val_accuracy: 0.9138\n",
            "Epoch 11/20\n",
            "230/230 [==============================] - 53s 229ms/step - loss: 0.1187 - accuracy: 0.9503 - val_loss: 0.2839 - val_accuracy: 0.9152\n",
            "Epoch 12/20\n",
            "230/230 [==============================] - 51s 223ms/step - loss: 0.1055 - accuracy: 0.9536 - val_loss: 0.4449 - val_accuracy: 0.8731\n",
            "Epoch 13/20\n",
            "230/230 [==============================] - 52s 225ms/step - loss: 0.1389 - accuracy: 0.9446 - val_loss: 0.3975 - val_accuracy: 0.8951\n",
            "Epoch 14/20\n",
            "230/230 [==============================] - 53s 230ms/step - loss: 0.1187 - accuracy: 0.9498 - val_loss: 0.2943 - val_accuracy: 0.9114\n",
            "Epoch 15/20\n",
            "230/230 [==============================] - 52s 225ms/step - loss: 0.1110 - accuracy: 0.9504 - val_loss: 0.3097 - val_accuracy: 0.9182\n",
            "Epoch 16/20\n",
            "230/230 [==============================] - 52s 227ms/step - loss: 0.1071 - accuracy: 0.9559 - val_loss: 0.3005 - val_accuracy: 0.9186\n",
            "Epoch 17/20\n",
            "230/230 [==============================] - 52s 225ms/step - loss: 0.0943 - accuracy: 0.9582 - val_loss: 0.3177 - val_accuracy: 0.9158\n",
            "Epoch 18/20\n",
            "230/230 [==============================] - 51s 223ms/step - loss: 0.1052 - accuracy: 0.9522 - val_loss: 0.3230 - val_accuracy: 0.9206\n",
            "Epoch 19/20\n",
            "230/230 [==============================] - 52s 225ms/step - loss: 0.1010 - accuracy: 0.9575 - val_loss: 0.3271 - val_accuracy: 0.9067\n",
            "Epoch 20/20\n",
            "230/230 [==============================] - 52s 225ms/step - loss: 0.1285 - accuracy: 0.9506 - val_loss: 0.3191 - val_accuracy: 0.9186\n"
          ],
          "name": "stdout"
        }
      ]
    },
    {
      "cell_type": "code",
      "metadata": {
        "colab": {
          "base_uri": "https://localhost:8080/"
        },
        "id": "8TMZTkdVgtZK",
        "outputId": "edbe76bd-4669-40a6-9723-82300d2aec1d"
      },
      "source": [
        "modellstm.evaluate(testX, testy)"
      ],
      "execution_count": null,
      "outputs": [
        {
          "output_type": "stream",
          "text": [
            "93/93 [==============================] - 6s 61ms/step - loss: 0.3191 - accuracy: 0.9186\n"
          ],
          "name": "stdout"
        },
        {
          "output_type": "execute_result",
          "data": {
            "text/plain": [
              "[0.3190981447696686, 0.9185612201690674]"
            ]
          },
          "metadata": {
            "tags": []
          },
          "execution_count": 218
        }
      ]
    },
    {
      "cell_type": "code",
      "metadata": {
        "colab": {
          "base_uri": "https://localhost:8080/"
        },
        "id": "z-ra_V6S31P7",
        "outputId": "fb84c741-bf8b-4872-e724-45ee3845e464"
      },
      "source": [
        "r_pred = modellstm.predict_classes(testX)"
      ],
      "execution_count": null,
      "outputs": [
        {
          "output_type": "stream",
          "text": [
            "/usr/local/lib/python3.7/dist-packages/tensorflow/python/keras/engine/sequential.py:450: UserWarning: `model.predict_classes()` is deprecated and will be removed after 2021-01-01. Please use instead:* `np.argmax(model.predict(x), axis=-1)`,   if your model does multi-class classification   (e.g. if it uses a `softmax` last-layer activation).* `(model.predict(x) > 0.5).astype(\"int32\")`,   if your model does binary classification   (e.g. if it uses a `sigmoid` last-layer activation).\n",
            "  warnings.warn('`model.predict_classes()` is deprecated and '\n"
          ],
          "name": "stderr"
        }
      ]
    },
    {
      "cell_type": "markdown",
      "metadata": {
        "id": "sVQJEUl47L4Q"
      },
      "source": [
        "# Confusion Matrix"
      ]
    },
    {
      "cell_type": "code",
      "metadata": {
        "colab": {
          "base_uri": "https://localhost:8080/",
          "height": 530
        },
        "id": "lj_ttLm939_D",
        "outputId": "f59b6bc0-d859-4291-852b-eb566de40f6e"
      },
      "source": [
        "mat = confusion_matrix(testr , r_pred)\n",
        "plot_confusion_matrix(conf_mat = mat, show_normed=False , figsize=(10,8))"
      ],
      "execution_count": null,
      "outputs": [
        {
          "output_type": "execute_result",
          "data": {
            "text/plain": [
              "(<Figure size 720x576 with 1 Axes>,\n",
              " <matplotlib.axes._subplots.AxesSubplot at 0x7f652758f0d0>)"
            ]
          },
          "metadata": {
            "tags": []
          },
          "execution_count": 222
        },
        {
          "output_type": "display_data",
          "data": {
            "image/png": "[encoded data removed]",
            "text/plain": [
              "<Figure size 720x576 with 1 Axes>"
            ]
          },
          "metadata": {
            "tags": [],
            "needs_background": "light"
          }
        }
      ]
    },
    {
      "cell_type": "markdown",
      "metadata": {
        "id": "pyYQ9jVK7Ayl"
      },
      "source": [
        "\n",
        "# Plotting Curves for Accuracy and Loss"
      ]
    },
    {
      "cell_type": "code",
      "metadata": {
        "colab": {
          "base_uri": "https://localhost:8080/",
          "height": 295
        },
        "id": "K_6bfeCo4A12",
        "outputId": "5271517e-9520-47c7-fcf5-95f0934da473"
      },
      "source": [
        "plt.figure(figsize=(6, 4))\n",
        "plt.plot(historyy.history['accuracy'],'r', label='Accuracy of training data')\n",
        "plt.plot(historyy.history['val_accuracy'],'g', label='Accuracy of validation data')\n",
        "plt.title('Model Accuracy')\n",
        "plt.xlabel('Epochs')\n",
        "plt.ylabel('Accuracy')\n",
        "plt.legend(loc='lower right')\n",
        "plt.show()"
      ],
      "execution_count": null,
      "outputs": [
        {
          "output_type": "display_data",
          "data": {
            "image/png": "[encoded data removed]",
            "text/plain": [
              "<Figure size 432x288 with 1 Axes>"
            ]
          },
          "metadata": {
            "tags": [],
            "needs_background": "light"
          }
        }
      ]
    },
    {
      "cell_type": "code",
      "metadata": {
        "colab": {
          "base_uri": "https://localhost:8080/",
          "height": 295
        },
        "id": "EDLwO-3P4Rvc",
        "outputId": "16a5cfb8-fa5f-4c7f-b009-8b24e9fc2751"
      },
      "source": [
        "plt.figure(figsize=(6, 4))\n",
        "plt.plot(historyy.history['loss'],'r', label='Loss of training data')\n",
        "plt.plot(historyy.history['val_loss'],'g', label='Loss of validation data')\n",
        "plt.title('Model Loss')\n",
        "plt.xlabel('Epochs')\n",
        "plt.ylabel('Loss')\n",
        "plt.legend(loc='upper right')\n",
        "plt.show()"
      ],
      "execution_count": null,
      "outputs": [
        {
          "output_type": "display_data",
          "data": {
            "image/png": "[encoded data removed]",
            "text/plain": [
              "<Figure size 432x288 with 1 Axes>"
            ]
          },
          "metadata": {
            "tags": [],
            "needs_background": "light"
          }
        }
      ]
    },
    {
      "cell_type": "markdown",
      "metadata": {
        "id": "pYs15M_w67ok"
      },
      "source": [
        "# Classification Report"
      ]
    },
    {
      "cell_type": "code",
      "metadata": {
        "colab": {
          "base_uri": "https://localhost:8080/"
        },
        "id": "e8tFX_KG4ahK",
        "outputId": "33b2a124-17bb-4ac4-d257-ea291af42fe9"
      },
      "source": [
        "from sklearn.metrics import classification_report\n",
        "y_pred = modellstm.predict(testX)\n",
        "y_pred_classes = [np.argmax(element) for element in y_pred]\n",
        "print('\\nClassification Report\\n')\n",
        "print(classification_report(testr, y_pred_classes, target_names=[\"WALKING\", \"WALKING_UPSTAIRS\", \"WALKING_DOWNSTAIRS\", \"SITTING\", \"STANDING\", \"LAYING\"]))\n",
        "#here we needed testr not testy"
      ],
      "execution_count": null,
      "outputs": [
        {
          "output_type": "stream",
          "text": [
            "\n",
            "Classification Report\n",
            "\n",
            "                    precision    recall  f1-score   support\n",
            "\n",
            "           WALKING       1.00      0.93      0.96       496\n",
            "  WALKING_UPSTAIRS       0.99      0.92      0.95       471\n",
            "WALKING_DOWNSTAIRS       0.86      1.00      0.93       420\n",
            "           SITTING       0.82      0.84      0.83       491\n",
            "          STANDING       0.89      0.83      0.86       532\n",
            "            LAYING       0.96      1.00      0.98       537\n",
            "\n",
            "          accuracy                           0.92      2947\n",
            "         macro avg       0.92      0.92      0.92      2947\n",
            "      weighted avg       0.92      0.92      0.92      2947\n",
            "\n"
          ],
          "name": "stdout"
        }
      ]
    },
    {
      "cell_type": "markdown",
      "metadata": {
        "id": "6eJbWbjH4mx3"
      },
      "source": [
        "# We can see LSTM model gives an accuracy of 92%\n",
        "Therefore we can say LSTM works well on time-series data."
      ]
    },
    {
      "cell_type": "markdown",
      "metadata": {
        "id": "7Bl6L9YO_jJU"
      },
      "source": [
        "# **GRU Model**"
      ]
    },
    {
      "cell_type": "code",
      "metadata": {
        "id": "fqu9DLh7_vLO"
      },
      "source": [
        "from keras.layers import GRU"
      ],
      "execution_count": null,
      "outputs": []
    },
    {
      "cell_type": "code",
      "metadata": {
        "id": "DMDr_lJeAkuX"
      },
      "source": [
        "#building a GRU\n",
        "#model creation\n",
        "modelgru = Sequential()\n",
        "modelgru.add(GRU(units = 128,input_shape=(trainX.shape[1:]),return_sequences=True))\n",
        "modelgru.add(GRU(units = 64))\n",
        "modelgru.add(Dense(units = 64, activation='relu'))\n",
        "modelgru.add(Dense(units = 6 , activation='sigmoid'))"
      ],
      "execution_count": null,
      "outputs": []
    },
    {
      "cell_type": "code",
      "metadata": {
        "id": "C5E_x3Z5B1tV"
      },
      "source": [
        "modelgru.compile(optimizer='adam',loss='categorical_crossentropy', metrics=['accuracy'])"
      ],
      "execution_count": null,
      "outputs": []
    },
    {
      "cell_type": "code",
      "metadata": {
        "colab": {
          "base_uri": "https://localhost:8080/"
        },
        "id": "nIz5a63KB_6r",
        "outputId": "8ff5253b-049e-40a5-bac3-4a4088138d65"
      },
      "source": [
        "modelgru.summary()"
      ],
      "execution_count": null,
      "outputs": [
        {
          "output_type": "stream",
          "text": [
            "Model: \"sequential_1\"\n",
            "_________________________________________________________________\n",
            "Layer (type)                 Output Shape              Param #   \n",
            "=================================================================\n",
            "gru (GRU)                    (None, 128, 128)          53376     \n",
            "_________________________________________________________________\n",
            "gru_1 (GRU)                  (None, 64)                37248     \n",
            "_________________________________________________________________\n",
            "dense_3 (Dense)              (None, 64)                4160      \n",
            "_________________________________________________________________\n",
            "dense_4 (Dense)              (None, 6)                 390       \n",
            "=================================================================\n",
            "Total params: 95,174\n",
            "Trainable params: 95,174\n",
            "Non-trainable params: 0\n",
            "_________________________________________________________________\n"
          ],
          "name": "stdout"
        }
      ]
    },
    {
      "cell_type": "code",
      "metadata": {
        "colab": {
          "base_uri": "https://localhost:8080/"
        },
        "id": "D6UW9WSqCInG",
        "outputId": "079a7c0c-4134-402a-dbd2-f829e072acf1"
      },
      "source": [
        "history=modelgru.fit(trainX,trainy,epochs=20,validation_data=(testX,testy))"
      ],
      "execution_count": null,
      "outputs": [
        {
          "output_type": "stream",
          "text": [
            "Epoch 1/20\n",
            "230/230 [==============================] - 44s 176ms/step - loss: 1.1938 - accuracy: 0.5209 - val_loss: 0.5492 - val_accuracy: 0.7872\n",
            "Epoch 2/20\n",
            "230/230 [==============================] - 40s 174ms/step - loss: 0.2574 - accuracy: 0.9138 - val_loss: 0.3543 - val_accuracy: 0.8731\n",
            "Epoch 3/20\n",
            "230/230 [==============================] - 40s 174ms/step - loss: 0.1553 - accuracy: 0.9374 - val_loss: 0.2929 - val_accuracy: 0.8982\n",
            "Epoch 4/20\n",
            "230/230 [==============================] - 40s 172ms/step - loss: 0.1306 - accuracy: 0.9453 - val_loss: 0.3144 - val_accuracy: 0.9057\n",
            "Epoch 5/20\n",
            "230/230 [==============================] - 40s 173ms/step - loss: 0.1307 - accuracy: 0.9417 - val_loss: 0.3217 - val_accuracy: 0.8918\n",
            "Epoch 6/20\n",
            "230/230 [==============================] - 40s 174ms/step - loss: 0.1466 - accuracy: 0.9387 - val_loss: 0.3051 - val_accuracy: 0.9080\n",
            "Epoch 7/20\n",
            "230/230 [==============================] - 40s 175ms/step - loss: 0.1183 - accuracy: 0.9556 - val_loss: 0.3143 - val_accuracy: 0.9016\n",
            "Epoch 8/20\n",
            "230/230 [==============================] - 40s 174ms/step - loss: 0.1162 - accuracy: 0.9492 - val_loss: 0.3846 - val_accuracy: 0.8877\n",
            "Epoch 9/20\n",
            "230/230 [==============================] - 40s 172ms/step - loss: 0.1378 - accuracy: 0.9427 - val_loss: 0.2827 - val_accuracy: 0.9043\n",
            "Epoch 10/20\n",
            "230/230 [==============================] - 39s 172ms/step - loss: 0.1115 - accuracy: 0.9535 - val_loss: 0.2634 - val_accuracy: 0.9104\n",
            "Epoch 11/20\n",
            "230/230 [==============================] - 40s 173ms/step - loss: 0.1175 - accuracy: 0.9458 - val_loss: 0.2617 - val_accuracy: 0.9128\n",
            "Epoch 12/20\n",
            "230/230 [==============================] - 40s 172ms/step - loss: 0.1214 - accuracy: 0.9482 - val_loss: 0.2683 - val_accuracy: 0.9002\n",
            "Epoch 13/20\n",
            "230/230 [==============================] - 39s 171ms/step - loss: 0.1149 - accuracy: 0.9500 - val_loss: 0.2564 - val_accuracy: 0.9162\n",
            "Epoch 14/20\n",
            "230/230 [==============================] - 39s 170ms/step - loss: 0.1140 - accuracy: 0.9538 - val_loss: 0.2358 - val_accuracy: 0.9135\n",
            "Epoch 15/20\n",
            "230/230 [==============================] - 39s 169ms/step - loss: 0.1148 - accuracy: 0.9527 - val_loss: 0.2697 - val_accuracy: 0.9175\n",
            "Epoch 16/20\n",
            "230/230 [==============================] - 39s 169ms/step - loss: 0.1023 - accuracy: 0.9554 - val_loss: 0.2662 - val_accuracy: 0.9179\n",
            "Epoch 17/20\n",
            "230/230 [==============================] - 39s 168ms/step - loss: 0.0985 - accuracy: 0.9599 - val_loss: 0.2988 - val_accuracy: 0.9060\n",
            "Epoch 18/20\n",
            "230/230 [==============================] - 39s 169ms/step - loss: 0.1005 - accuracy: 0.9539 - val_loss: 0.3403 - val_accuracy: 0.9114\n",
            "Epoch 19/20\n",
            "230/230 [==============================] - 39s 168ms/step - loss: 0.1120 - accuracy: 0.9538 - val_loss: 0.3205 - val_accuracy: 0.8911\n",
            "Epoch 20/20\n",
            "230/230 [==============================] - 39s 168ms/step - loss: 0.1155 - accuracy: 0.9515 - val_loss: 0.3252 - val_accuracy: 0.9030\n"
          ],
          "name": "stdout"
        }
      ]
    },
    {
      "cell_type": "code",
      "metadata": {
        "colab": {
          "base_uri": "https://localhost:8080/"
        },
        "id": "fVucguHLFRMB",
        "outputId": "96e9dd08-3e87-4652-c281-1b361ef63599"
      },
      "source": [
        "modelgru.evaluate(testX, testy)"
      ],
      "execution_count": null,
      "outputs": [
        {
          "output_type": "stream",
          "text": [
            "93/93 [==============================] - 4s 42ms/step - loss: 0.3252 - accuracy: 0.9030\n"
          ],
          "name": "stdout"
        },
        {
          "output_type": "execute_result",
          "data": {
            "text/plain": [
              "[0.32515692710876465, 0.9029521346092224]"
            ]
          },
          "metadata": {
            "tags": []
          },
          "execution_count": 23
        }
      ]
    },
    {
      "cell_type": "code",
      "metadata": {
        "colab": {
          "base_uri": "https://localhost:8080/"
        },
        "id": "R1ROo9DFFZlE",
        "outputId": "5ca9bab2-b9a1-4967-db10-932e7b85e5bd"
      },
      "source": [
        "r_pred = modelgru.predict_classes(testX)"
      ],
      "execution_count": null,
      "outputs": [
        {
          "output_type": "stream",
          "text": [
            "/usr/local/lib/python3.7/dist-packages/tensorflow/python/keras/engine/sequential.py:450: UserWarning: `model.predict_classes()` is deprecated and will be removed after 2021-01-01. Please use instead:* `np.argmax(model.predict(x), axis=-1)`,   if your model does multi-class classification   (e.g. if it uses a `softmax` last-layer activation).* `(model.predict(x) > 0.5).astype(\"int32\")`,   if your model does binary classification   (e.g. if it uses a `sigmoid` last-layer activation).\n",
            "  warnings.warn('`model.predict_classes()` is deprecated and '\n"
          ],
          "name": "stderr"
        }
      ]
    },
    {
      "cell_type": "markdown",
      "metadata": {
        "id": "dxGiO_lrGoBa"
      },
      "source": [
        "# Confusion Matrix"
      ]
    },
    {
      "cell_type": "code",
      "metadata": {
        "colab": {
          "base_uri": "https://localhost:8080/",
          "height": 530
        },
        "id": "ms0IIjkNFh8j",
        "outputId": "126cbb6e-3391-471e-83a5-5099d04df7a5"
      },
      "source": [
        "mat = confusion_matrix(testr , r_pred)\n",
        "plot_confusion_matrix(conf_mat = mat, show_normed=False , figsize=(10,8))"
      ],
      "execution_count": null,
      "outputs": [
        {
          "output_type": "execute_result",
          "data": {
            "text/plain": [
              "(<Figure size 720x576 with 1 Axes>,\n",
              " <matplotlib.axes._subplots.AxesSubplot at 0x7f68d5e09590>)"
            ]
          },
          "metadata": {
            "tags": []
          },
          "execution_count": 28
        },
        {
          "output_type": "display_data",
          "data": {
            "image/png": "[encoded data removed]",
            "text/plain": [
              "<Figure size 720x576 with 1 Axes>"
            ]
          },
          "metadata": {
            "tags": [],
            "needs_background": "light"
          }
        }
      ]
    },
    {
      "cell_type": "markdown",
      "metadata": {
        "id": "JTe5MBrpGrqy"
      },
      "source": [
        "# Plotting Curves for Accuracy and Loss"
      ]
    },
    {
      "cell_type": "code",
      "metadata": {
        "colab": {
          "base_uri": "https://localhost:8080/",
          "height": 295
        },
        "id": "bJ2oSVJ3FsNH",
        "outputId": "d82392b6-e063-41c2-fd58-7584db21749a"
      },
      "source": [
        "plt.figure(figsize=(6, 4))\n",
        "plt.plot(history.history['accuracy'],'r', label='Accuracy of training data')\n",
        "plt.plot(history.history['val_accuracy'],'g', label='Accuracy of validation data')\n",
        "plt.title('Model Accuracy')\n",
        "plt.xlabel('Epochs')\n",
        "plt.ylabel('Accuracy')\n",
        "plt.legend(loc='lower right')\n",
        "plt.show()"
      ],
      "execution_count": null,
      "outputs": [
        {
          "output_type": "display_data",
          "data": {
            "image/png": "[encoded data removed]",
            "text/plain": [
              "<Figure size 432x288 with 1 Axes>"
            ]
          },
          "metadata": {
            "tags": [],
            "needs_background": "light"
          }
        }
      ]
    },
    {
      "cell_type": "code",
      "metadata": {
        "colab": {
          "base_uri": "https://localhost:8080/",
          "height": 295
        },
        "id": "rm6oMllBF0kO",
        "outputId": "c4e52523-fcca-4d63-ad78-fad37052c6d9"
      },
      "source": [
        "plt.figure(figsize=(6, 4))\n",
        "plt.plot(history.history['loss'],'r', label='Loss of training data')\n",
        "plt.plot(history.history['val_loss'],'g', label='Loss of validation data')\n",
        "plt.title('Model Loss')\n",
        "plt.xlabel('Epochs')\n",
        "plt.ylabel('Loss')\n",
        "plt.legend(loc='upper right')\n",
        "plt.show()"
      ],
      "execution_count": null,
      "outputs": [
        {
          "output_type": "display_data",
          "data": {
            "image/png": "[encoded data removed]",
            "text/plain": [
              "<Figure size 432x288 with 1 Axes>"
            ]
          },
          "metadata": {
            "tags": [],
            "needs_background": "light"
          }
        }
      ]
    },
    {
      "cell_type": "markdown",
      "metadata": {
        "id": "USCL0FfKGwAC"
      },
      "source": [
        "# Classification Report"
      ]
    },
    {
      "cell_type": "code",
      "metadata": {
        "colab": {
          "base_uri": "https://localhost:8080/"
        },
        "id": "9UrI4F-HF5ke",
        "outputId": "ba5a4458-f734-431e-ab03-de727389100a"
      },
      "source": [
        "from sklearn.metrics import classification_report\n",
        "y_pred = modelgru.predict(testX)\n",
        "y_pred_classes = [np.argmax(element) for element in y_pred]\n",
        "print('\\nClassification Report\\n')\n",
        "print(classification_report(testr, y_pred_classes, target_names=[\"WALKING\", \"WALKING_UPSTAIRS\", \"WALKING_DOWNSTAIRS\", \"SITTING\", \"STANDING\", \"LAYING\"]))\n",
        "#here we needed testr not testy"
      ],
      "execution_count": null,
      "outputs": [
        {
          "output_type": "stream",
          "text": [
            "\n",
            "Classification Report\n",
            "\n",
            "                    precision    recall  f1-score   support\n",
            "\n",
            "           WALKING       0.98      0.91      0.94       496\n",
            "  WALKING_UPSTAIRS       0.98      0.93      0.95       471\n",
            "WALKING_DOWNSTAIRS       0.87      1.00      0.93       420\n",
            "           SITTING       0.79      0.79      0.79       491\n",
            "          STANDING       0.85      0.80      0.82       532\n",
            "            LAYING       0.96      1.00      0.98       537\n",
            "\n",
            "          accuracy                           0.90      2947\n",
            "         macro avg       0.90      0.91      0.90      2947\n",
            "      weighted avg       0.90      0.90      0.90      2947\n",
            "\n"
          ],
          "name": "stdout"
        }
      ]
    },
    {
      "cell_type": "markdown",
      "metadata": {
        "id": "IICkzZIiGJnl"
      },
      "source": [
        "# GRU model gives an accuracy of 90%"
      ]
    }
  ]
}